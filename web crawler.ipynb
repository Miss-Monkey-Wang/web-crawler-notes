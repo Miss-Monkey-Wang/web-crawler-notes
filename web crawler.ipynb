{
 "cells": [
  {
   "cell_type": "markdown",
   "metadata": {},
   "source": [
    "# <font color=#b22222>Python爬虫简教---爬取搜狐新闻</font>"
   ]
  },
  {
   "cell_type": "markdown",
   "metadata": {},
   "source": [
    "<font color=#a52a2a>**background:** 小姐姐准备开课啦,预热预热:)</font>"
   ]
  },
  {
   "cell_type": "markdown",
   "metadata": {},
   "source": [
    "## <font color=black>示例 1:</font>"
   ]
  },
  {
   "cell_type": "markdown",
   "metadata": {},
   "source": [
    "该例中我们将要爬取搜狐新闻的 **新闻标题**, **发布时间**, **新闻链接**, 并保存为excel文件.  \n",
    "\n",
    "我们要爬取的新闻页面如下:"
   ]
  },
  {
   "cell_type": "markdown",
   "metadata": {},
   "source": [
    "<img src=\"souhunews.png\"/>"
   ]
  },
  {
   "cell_type": "markdown",
   "metadata": {},
   "source": [
    "导入**BeautifulSoup**, 如果还未安装**bs4**,请用如下命令进行安装:  \n",
    "**pip install bs4**  "
   ]
  },
  {
   "cell_type": "code",
   "execution_count": null,
   "metadata": {},
   "outputs": [],
   "source": [
    "from bs4 import BeautifulSoup"
   ]
  },
  {
   "cell_type": "markdown",
   "metadata": {},
   "source": [
    "导入**requests**"
   ]
  },
  {
   "cell_type": "code",
   "execution_count": null,
   "metadata": {},
   "outputs": [],
   "source": [
    "import requests"
   ]
  },
  {
   "cell_type": "markdown",
   "metadata": {},
   "source": [
    "我们要爬取的搜狐新闻页面url是 http://news.sina.com.cn/china/"
   ]
  },
  {
   "cell_type": "code",
   "execution_count": null,
   "metadata": {},
   "outputs": [],
   "source": [
    "url = 'http://news.sina.com.cn/china/'"
   ]
  },
  {
   "cell_type": "markdown",
   "metadata": {},
   "source": [
    "获取网页页面数据"
   ]
  },
  {
   "cell_type": "code",
   "execution_count": null,
   "metadata": {},
   "outputs": [],
   "source": [
    "web_content = requests.get(url)\n",
    "bs = BeautifulSoup(web_content.text,'lxml')"
   ]
  },
  {
   "cell_type": "markdown",
   "metadata": {},
   "source": [
    "我们来打印下页面内容,看看是什么"
   ]
  },
  {
   "cell_type": "code",
   "execution_count": null,
   "metadata": {},
   "outputs": [],
   "source": [
    "print(bs)"
   ]
  },
  {
   "cell_type": "markdown",
   "metadata": {},
   "source": [
    "发现页面内容有乱码啊,为什么呢,因为网页内容的编码是**utf-8**, 这个从页面开头的内容可以看出来  \n",
    "\n",
    "`<meta content=\"text/html; charset=utf-8\" http-equiv=\"Content-type\"/>`\n",
    "\n",
    "所以我们需要在获取网页数据后指定下网页数据编码,代码如下:"
   ]
  },
  {
   "cell_type": "code",
   "execution_count": 24,
   "metadata": {},
   "outputs": [],
   "source": [
    "web_content.encoding='utf-8'\n",
    "bs = BeautifulSoup(web_content.text,'lxml')"
   ]
  },
  {
   "cell_type": "markdown",
   "metadata": {},
   "source": [
    "再来打印下内容看看:"
   ]
  },
  {
   "cell_type": "code",
   "execution_count": null,
   "metadata": {},
   "outputs": [],
   "source": [
    "print(bs)"
   ]
  },
  {
   "cell_type": "markdown",
   "metadata": {},
   "source": [
    "接下来解析出网页中我们需要的内容.  \n",
    "\n",
    "在解析我们需要的内容前,我们需要观察下前面打印的网页数据,发现我们需要的新闻数据的 **class** 属性是 **\"news-item\"**,我们需要找出所有class属性是news-item的元素,代码如下,取class属性时需要加'.':"
   ]
  },
  {
   "cell_type": "code",
   "execution_count": 36,
   "metadata": {},
   "outputs": [],
   "source": [
    "news_items = bs.select('.news-item')"
   ]
  },
  {
   "cell_type": "markdown",
   "metadata": {},
   "source": [
    "打印第一个元素看看是什么:"
   ]
  },
  {
   "cell_type": "code",
   "execution_count": 37,
   "metadata": {},
   "outputs": [
    {
     "data": {
      "text/plain": [
       "<div class=\"news-item first-news-item \">\n",
       "<h2><a href=\"http://news.sina.com.cn/c/2018-07-14/doc-ihfhfwmv2843795.shtml\" suda-uatrack=\"key=newschina_index_2014&amp;value=news_link_1\" target=\"_blank\">杨洁篪：半岛核问题正朝着政治解决方向前进</a></h2>\n",
       "<div class=\"info clearfix \">\n",
       "<div class=\"time\">7月14日 11:53</div>\n",
       "<div class=\"action\"><a data-id=\"gn:comos-hfhfwmv2843795:0\" href=\"http://comment5.news.sina.com.cn/comment/skin/default.html?channel=gn&amp;newsid=comos-hfhfwmv2843795&amp;style=0\" target=\"_blank\">评论</a><span class=\"spliter\">|</span><span class=\"bdshare_t bds_tools get-codes-bdshare\" data=\"{text:'杨洁篪：半岛核问题正朝着政治解决方向前进',url:'http://news.sina.com.cn/c/2018-07-14/doc-ihfhfwmv2843795.shtml',pic:''}\" id=\"bdshare\"><span class=\"bds_more\">分享</span></span></div>\n",
       "</div>\n",
       "</div>"
      ]
     },
     "execution_count": 37,
     "metadata": {},
     "output_type": "execute_result"
    }
   ],
   "source": [
    "news_items[0]"
   ]
  },
  {
   "cell_type": "markdown",
   "metadata": {},
   "source": [
    "所以对每个news_item我们具体需要取出的是标签为**h2**的元素(**新闻标题**),class属性为**time**的元素(**时间**),标签为**a**的元素(**新闻链接**),我们对第一个news测试看看:"
   ]
  },
  {
   "cell_type": "code",
   "execution_count": 58,
   "metadata": {},
   "outputs": [
    {
     "name": "stdout",
     "output_type": "stream",
     "text": [
      "杨洁篪：半岛核问题正朝着政治解决方向前进\n",
      "1月22日 08:20\n",
      "http://news.sina.com.cn/c/sd/2018-01-22/doc-ifyquptv8499452.shtml\n"
     ]
    }
   ],
   "source": [
    "test_news_item = news_items[0]\n",
    "news_title = test_news_item.select('h2')[0].text\n",
    "news_time = news.select('.time')[0].text\n",
    "news_link = news.select('a')[0]['href']\n",
    "print(news_title+'\\n'+news_time+'\\n'+news_link)"
   ]
  },
  {
   "cell_type": "markdown",
   "metadata": {},
   "source": [
    "看起来结果没毛病,那就写个循环把每个news_item都解析出来吧,我们用**pandas**的**DateFrame**放数据结果,并保存."
   ]
  },
  {
   "cell_type": "code",
   "execution_count": 52,
   "metadata": {},
   "outputs": [],
   "source": [
    "import pandas as pd\n",
    "news_result = pd.DataFrame()\n",
    "for i,news in enumerate(news_items):\n",
    "    if(len(news.select('h2')) > 0):\n",
    "        news_result.loc[i,'新闻标题'] = news.select('h2')[0].text\n",
    "        news_result.loc[i,'发布时间'] =news.select('.time')[0].text\n",
    "        news_result.loc[i,'新闻链接'] = news.select('a')[0]['href']"
   ]
  },
  {
   "cell_type": "code",
   "execution_count": 55,
   "metadata": {},
   "outputs": [
    {
     "data": {
      "text/html": [
       "<div>\n",
       "<style scoped>\n",
       "    .dataframe tbody tr th:only-of-type {\n",
       "        vertical-align: middle;\n",
       "    }\n",
       "\n",
       "    .dataframe tbody tr th {\n",
       "        vertical-align: top;\n",
       "    }\n",
       "\n",
       "    .dataframe thead th {\n",
       "        text-align: right;\n",
       "    }\n",
       "</style>\n",
       "<table border=\"1\" class=\"dataframe\">\n",
       "  <thead>\n",
       "    <tr style=\"text-align: right;\">\n",
       "      <th></th>\n",
       "      <th>新闻标题</th>\n",
       "      <th>发布时间</th>\n",
       "      <th>新闻链接</th>\n",
       "    </tr>\n",
       "  </thead>\n",
       "  <tbody>\n",
       "    <tr>\n",
       "      <th>0</th>\n",
       "      <td>杨洁篪：半岛核问题正朝着政治解决方向前进</td>\n",
       "      <td>7月14日 11:53</td>\n",
       "      <td>http://news.sina.com.cn/c/2018-07-14/doc-ihfhf...</td>\n",
       "    </tr>\n",
       "    <tr>\n",
       "      <th>1</th>\n",
       "      <td>北京这个重要机构新增一名副主任</td>\n",
       "      <td>7月14日 11:44</td>\n",
       "      <td>http://news.sina.com.cn/c/2018-07-14/doc-ihfhf...</td>\n",
       "    </tr>\n",
       "    <tr>\n",
       "      <th>4</th>\n",
       "      <td>长春公用局原纪委书记蔡晓时受贿197万获刑5年半</td>\n",
       "      <td>7月14日 11:44</td>\n",
       "      <td>http://news.sina.com.cn/c/2018-07-14/doc-ihfhf...</td>\n",
       "    </tr>\n",
       "    <tr>\n",
       "      <th>5</th>\n",
       "      <td>社科院报告：建议全国2030年起实行4天工作制</td>\n",
       "      <td>7月14日 11:35</td>\n",
       "      <td>http://news.sina.com.cn/c/2018-07-14/doc-ihfhf...</td>\n",
       "    </tr>\n",
       "    <tr>\n",
       "      <th>6</th>\n",
       "      <td>杨洁篪：贸易战不会有赢家 中方理当做出必要反击</td>\n",
       "      <td>7月14日 11:30</td>\n",
       "      <td>http://news.sina.com.cn/o/2018-07-14/doc-ihfhf...</td>\n",
       "    </tr>\n",
       "  </tbody>\n",
       "</table>\n",
       "</div>"
      ],
      "text/plain": [
       "                       新闻标题         发布时间  \\\n",
       "0      杨洁篪：半岛核问题正朝着政治解决方向前进  7月14日 11:53   \n",
       "1           北京这个重要机构新增一名副主任  7月14日 11:44   \n",
       "4  长春公用局原纪委书记蔡晓时受贿197万获刑5年半  7月14日 11:44   \n",
       "5   社科院报告：建议全国2030年起实行4天工作制  7月14日 11:35   \n",
       "6   杨洁篪：贸易战不会有赢家 中方理当做出必要反击  7月14日 11:30   \n",
       "\n",
       "                                                新闻链接  \n",
       "0  http://news.sina.com.cn/c/2018-07-14/doc-ihfhf...  \n",
       "1  http://news.sina.com.cn/c/2018-07-14/doc-ihfhf...  \n",
       "4  http://news.sina.com.cn/c/2018-07-14/doc-ihfhf...  \n",
       "5  http://news.sina.com.cn/c/2018-07-14/doc-ihfhf...  \n",
       "6  http://news.sina.com.cn/o/2018-07-14/doc-ihfhf...  "
      ]
     },
     "execution_count": 55,
     "metadata": {},
     "output_type": "execute_result"
    }
   ],
   "source": [
    "news_result.head()"
   ]
  },
  {
   "cell_type": "code",
   "execution_count": 54,
   "metadata": {},
   "outputs": [],
   "source": [
    "news_result.to_excel('搜狐新闻爬取结果.xlsx')"
   ]
  }
 ],
 "metadata": {
  "kernelspec": {
   "display_name": "Python 3",
   "language": "python",
   "name": "python3"
  },
  "language_info": {
   "codemirror_mode": {
    "name": "ipython",
    "version": 3
   },
   "file_extension": ".py",
   "mimetype": "text/x-python",
   "name": "python",
   "nbconvert_exporter": "python",
   "pygments_lexer": "ipython3",
   "version": "3.6.4"
  }
 },
 "nbformat": 4,
 "nbformat_minor": 2
}
