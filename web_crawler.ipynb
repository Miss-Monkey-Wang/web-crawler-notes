{
 "cells": [
  {
   "cell_type": "markdown",
   "metadata": {},
   "source": [
    "# <font color=#b22222>Python爬虫简教---爬取搜狐新闻</font>"
   ]
  },
  {
   "cell_type": "markdown",
   "metadata": {},
   "source": [
    "## <font color=black>示例 1:</font>"
   ]
  },
  {
   "cell_type": "markdown",
   "metadata": {},
   "source": [
    "该例中我们将要爬取搜狐新闻的 **新闻标题**, **发布时间**, **新闻链接**, 并保存为excel文件.  \n",
    "\n",
    "我们要爬取的新闻页面如下:"
   ]
  },
  {
   "cell_type": "markdown",
   "metadata": {},
   "source": [
    "<img src=\"souhunews.png\"/>"
   ]
  },
  {
   "cell_type": "markdown",
   "metadata": {},
   "source": [
    "导入**BeautifulSoup**, 如果还未安装**bs4**,请用如下命令进行安装:  \n",
    "**pip install bs4**  "
   ]
  },
  {
   "cell_type": "code",
   "execution_count": 1,
   "metadata": {},
   "outputs": [],
   "source": [
    "from bs4 import BeautifulSoup"
   ]
  },
  {
   "cell_type": "markdown",
   "metadata": {},
   "source": [
    "导入**requests**"
   ]
  },
  {
   "cell_type": "code",
   "execution_count": 2,
   "metadata": {},
   "outputs": [],
   "source": [
    "import requests"
   ]
  },
  {
   "cell_type": "markdown",
   "metadata": {},
   "source": [
    "我们要爬取的搜狐新闻页面url是 http://news.sina.com.cn/china/"
   ]
  },
  {
   "cell_type": "code",
   "execution_count": 3,
   "metadata": {},
   "outputs": [],
   "source": [
    "url = 'http://news.sina.com.cn/china/'"
   ]
  },
  {
   "cell_type": "markdown",
   "metadata": {},
   "source": [
    "获取网页页面数据"
   ]
  },
  {
   "cell_type": "code",
   "execution_count": 4,
   "metadata": {},
   "outputs": [],
   "source": [
    "web_content = requests.get(url)\n",
    "bs = BeautifulSoup(web_content.text,'lxml')"
   ]
  },
  {
   "cell_type": "markdown",
   "metadata": {},
   "source": [
    "我们来打印下页面内容,看看是什么"
   ]
  },
  {
   "cell_type": "code",
   "execution_count": null,
   "metadata": {},
   "outputs": [],
   "source": [
    "print(bs)"
   ]
  },
  {
   "cell_type": "markdown",
   "metadata": {},
   "source": [
    "发现页面内容有乱码啊,为什么呢,因为网页内容的编码是**utf-8**, 这个从页面开头的内容可以看出来  \n",
    "\n",
    "`<meta content=\"text/html; charset=utf-8\" http-equiv=\"Content-type\"/>`\n",
    "\n",
    "所以我们需要在获取网页数据后指定下网页数据编码,代码如下:"
   ]
  },
  {
   "cell_type": "code",
   "execution_count": 5,
   "metadata": {},
   "outputs": [],
   "source": [
    "web_content.encoding='utf-8'\n",
    "bs = BeautifulSoup(web_content.text,'lxml')"
   ]
  },
  {
   "cell_type": "markdown",
   "metadata": {},
   "source": [
    "再来打印下内容看看:"
   ]
  },
  {
   "cell_type": "code",
   "execution_count": null,
   "metadata": {},
   "outputs": [],
   "source": [
    "print(bs)"
   ]
  },
  {
   "cell_type": "markdown",
   "metadata": {},
   "source": [
    "接下来解析出网页中我们需要的内容.  \n",
    "\n",
    "在解析我们需要的内容前,我们需要观察下前面打印的网页数据,发现我们需要的新闻数据的 **class** 属性是 **\"news-item\"**,我们需要找出所有class属性是news-item的元素,代码如下,取class属性时需要加'.':"
   ]
  },
  {
   "cell_type": "code",
   "execution_count": 6,
   "metadata": {},
   "outputs": [],
   "source": [
    "news_items = bs.select('.news-item')"
   ]
  },
  {
   "cell_type": "markdown",
   "metadata": {},
   "source": [
    "打印第一个元素看看是什么:"
   ]
  },
  {
   "cell_type": "code",
   "execution_count": 7,
   "metadata": {},
   "outputs": [
    {
     "data": {
      "text/plain": [
       "<div class=\"news-item first-news-item img-news-item\">\n",
       "<h2><a href=\"http://news.sina.com.cn/o/2018-07-16/doc-ihfkffak6746259.shtml\" suda-uatrack=\"key=newschina_index_2014&amp;value=news_link_1\" target=\"_blank\">暴雨致北京公路突发事件29起：16起塌方10起积水</a></h2>\n",
       "<div class=\"info clearfix info1\">\n",
       "<div class=\"time\">7月16日 17:18</div>\n",
       "<div class=\"action\"><a data-id=\"gn:comos-hfkffak6746259:0\" href=\"http://comment5.news.sina.com.cn/comment/skin/default.html?channel=gn&amp;newsid=comos-hfkffak6746259&amp;style=0\" target=\"_blank\">评论</a><span class=\"spliter\">|</span><span class=\"bdshare_t bds_tools get-codes-bdshare\" data=\"{text:'暴雨致北京公路突发事件29起：16起塌方10起积水',url:'http://news.sina.com.cn/o/2018-07-16/doc-ihfkffak6746259.shtml',pic:'http://n.sinaimg.cn/translate/78/w523h355/20180716/KkkR-hfkffak6564725.jpg'}\" id=\"bdshare\"><span class=\"bds_more\">分享</span></span></div>\n",
       "</div>\n",
       "</div>"
      ]
     },
     "execution_count": 7,
     "metadata": {},
     "output_type": "execute_result"
    }
   ],
   "source": [
    "news_items[0]"
   ]
  },
  {
   "cell_type": "markdown",
   "metadata": {},
   "source": [
    "所以对每个news_item我们具体需要取出的是标签为**h2**的元素(**新闻标题**),class属性为**time**的元素(**时间**),标签为**a**的元素(**新闻链接**),我们对第一个news测试看看:"
   ]
  },
  {
   "cell_type": "code",
   "execution_count": 9,
   "metadata": {},
   "outputs": [
    {
     "name": "stdout",
     "output_type": "stream",
     "text": [
      "暴雨致北京公路突发事件29起：16起塌方10起积水\n",
      "7月16日 17:18\n",
      "http://news.sina.com.cn/o/2018-07-16/doc-ihfkffak6746259.shtml\n"
     ]
    }
   ],
   "source": [
    "test_news_item = news_items[0]\n",
    "news_title = test_news_item.select('h2')[0].text\n",
    "news_time = test_news_item.select('.time')[0].text\n",
    "news_link = test_news_item.select('a')[0]['href']\n",
    "print(news_title+'\\n'+news_time+'\\n'+news_link)"
   ]
  },
  {
   "cell_type": "markdown",
   "metadata": {},
   "source": [
    "看起来结果没毛病,那就写个循环把每个news_item都解析出来吧,我们用**pandas**的**DateFrame**放数据结果,并保存."
   ]
  },
  {
   "cell_type": "code",
   "execution_count": 10,
   "metadata": {},
   "outputs": [],
   "source": [
    "import pandas as pd\n",
    "news_result = pd.DataFrame()\n",
    "for i,news in enumerate(news_items):\n",
    "    if(len(news.select('h2')) > 0):\n",
    "        news_result.loc[i,'新闻标题'] = news.select('h2')[0].text\n",
    "        news_result.loc[i,'发布时间'] =news.select('.time')[0].text\n",
    "        news_result.loc[i,'新闻链接'] = news.select('a')[0]['href']"
   ]
  },
  {
   "cell_type": "code",
   "execution_count": 11,
   "metadata": {},
   "outputs": [
    {
     "data": {
      "text/html": [
       "<div>\n",
       "<style scoped>\n",
       "    .dataframe tbody tr th:only-of-type {\n",
       "        vertical-align: middle;\n",
       "    }\n",
       "\n",
       "    .dataframe tbody tr th {\n",
       "        vertical-align: top;\n",
       "    }\n",
       "\n",
       "    .dataframe thead th {\n",
       "        text-align: right;\n",
       "    }\n",
       "</style>\n",
       "<table border=\"1\" class=\"dataframe\">\n",
       "  <thead>\n",
       "    <tr style=\"text-align: right;\">\n",
       "      <th></th>\n",
       "      <th>新闻标题</th>\n",
       "      <th>发布时间</th>\n",
       "      <th>新闻链接</th>\n",
       "    </tr>\n",
       "  </thead>\n",
       "  <tbody>\n",
       "    <tr>\n",
       "      <th>0</th>\n",
       "      <td>暴雨致北京公路突发事件29起：16起塌方10起积水</td>\n",
       "      <td>7月16日 17:18</td>\n",
       "      <td>http://news.sina.com.cn/o/2018-07-16/doc-ihfkf...</td>\n",
       "    </tr>\n",
       "    <tr>\n",
       "      <th>1</th>\n",
       "      <td>军委审计署审计长田义祥:军队审计干部近半是文职</td>\n",
       "      <td>7月16日 17:04</td>\n",
       "      <td>http://news.sina.com.cn/o/2018-07-16/doc-ihfkf...</td>\n",
       "    </tr>\n",
       "    <tr>\n",
       "      <th>4</th>\n",
       "      <td>个税起征5000拟设专项附加扣除 专家建议应定额扣</td>\n",
       "      <td>7月16日 17:00</td>\n",
       "      <td>http://news.sina.com.cn/c/2018-07-16/doc-ihfkf...</td>\n",
       "    </tr>\n",
       "    <tr>\n",
       "      <th>5</th>\n",
       "      <td>中国欧盟领导人会晤联合声明：将建WTO改革工作组</td>\n",
       "      <td>7月16日 16:52</td>\n",
       "      <td>http://news.sina.com.cn/o/2018-07-16/doc-ihfkf...</td>\n",
       "    </tr>\n",
       "    <tr>\n",
       "      <th>6</th>\n",
       "      <td>强降水引发北京郊区险情 市委书记坐镇指挥抢险</td>\n",
       "      <td>7月16日 16:48</td>\n",
       "      <td>http://news.sina.com.cn/c/2018-07-16/doc-ihfkf...</td>\n",
       "    </tr>\n",
       "  </tbody>\n",
       "</table>\n",
       "</div>"
      ],
      "text/plain": [
       "                        新闻标题         发布时间  \\\n",
       "0  暴雨致北京公路突发事件29起：16起塌方10起积水  7月16日 17:18   \n",
       "1    军委审计署审计长田义祥:军队审计干部近半是文职  7月16日 17:04   \n",
       "4  个税起征5000拟设专项附加扣除 专家建议应定额扣  7月16日 17:00   \n",
       "5   中国欧盟领导人会晤联合声明：将建WTO改革工作组  7月16日 16:52   \n",
       "6     强降水引发北京郊区险情 市委书记坐镇指挥抢险  7月16日 16:48   \n",
       "\n",
       "                                                新闻链接  \n",
       "0  http://news.sina.com.cn/o/2018-07-16/doc-ihfkf...  \n",
       "1  http://news.sina.com.cn/o/2018-07-16/doc-ihfkf...  \n",
       "4  http://news.sina.com.cn/c/2018-07-16/doc-ihfkf...  \n",
       "5  http://news.sina.com.cn/o/2018-07-16/doc-ihfkf...  \n",
       "6  http://news.sina.com.cn/c/2018-07-16/doc-ihfkf...  "
      ]
     },
     "execution_count": 11,
     "metadata": {},
     "output_type": "execute_result"
    }
   ],
   "source": [
    "news_result.head()"
   ]
  },
  {
   "cell_type": "code",
   "execution_count": 12,
   "metadata": {},
   "outputs": [],
   "source": [
    "news_result.to_excel('搜狐新闻爬取结果.xlsx')"
   ]
  }
 ],
 "metadata": {
  "kernelspec": {
   "display_name": "Python 3",
   "language": "python",
   "name": "python3"
  },
  "language_info": {
   "codemirror_mode": {
    "name": "ipython",
    "version": 3
   },
   "file_extension": ".py",
   "mimetype": "text/x-python",
   "name": "python",
   "nbconvert_exporter": "python",
   "pygments_lexer": "ipython3",
   "version": "3.6.4"
  }
 },
 "nbformat": 4,
 "nbformat_minor": 2
}
